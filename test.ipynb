{
 "cells": [
  {
   "cell_type": "code",
   "execution_count": null,
   "id": "0048c84c",
   "metadata": {},
   "outputs": [],
   "source": [
    "pip install shapely"
   ]
  },
  {
   "cell_type": "code",
   "execution_count": 3,
   "id": "14fa1f8c",
   "metadata": {},
   "outputs": [
    {
     "name": "stdout",
     "output_type": "stream",
     "text": [
      "<class 'list'>\n",
      "{'balcony': <MULTIPOLYGON (((175.565 223.323, 175.565 249.233, 255.227 249.233, 255.227 ...>, 'bathroom': <MULTIPOLYGON (((110.985 10.248, 73.474 10.248, 73.474 68.254, 110.985 68.25...>, 'bedroom': <MULTIPOLYGON (((154.296 89.909, 238.598 89.909, 238.598 64.773, 256 64.773,...>, 'door': <MULTIPOLYGON (((155.069 89.136, 155.069 93.776, 173.631 93.776, 173.631 89....>, 'garden': <MULTIPOLYGON EMPTY>, 'inner': <MULTIPOLYGON (((-1.11e-16 245.752, 171.698 245.752, 171.698 219.456, 256 21...>, 'parking': <MULTIPOLYGON EMPTY>, 'pool': <MULTIPOLYGON EMPTY>, 'stair': <MULTIPOLYGON EMPTY>, 'veranda': <MULTIPOLYGON EMPTY>, 'wall': <MULTIPOLYGON (((173.631 93.776, 259.867 93.776, 259.867 89.136, 242.465 89....>, 'window': <MULTIPOLYGON (((206.502 6.381, 206.502 11.021, 224.29 11.021, 224.29 6.381,...>, 'front_door': <POLYGON ((259.867 93.776, 255.227 93.776, 255.227 116.592, 259.867 116.592,...>, 'unitType': 'Apartment', 'id': 0, 'kitchen': <MULTIPOLYGON (((13.921 36.544, 13.921 37.317, 0.773 37.317, 0.773 100.351, ...>, 'land': <MULTIPOLYGON (((86.155 5.756, 86.056 5.855, 86.056 6.35, 85.957 6.449, -3.5...>, 'net_area': 128.67302180017973, 'area': 130.99323, 'neighbor': (<MULTIPOLYGON (((256 10.248, 256 10.248, 256 10.248, 256 10.248, 256 10.248,...>, <MULTIPOLYGON (((73.474 10.248, 73.474 10.248, 73.474 10.248, 73.474 10.248,...>), 'living': <MULTIPOLYGON (((94.743 165.704, 174.792 165.704, 174.792 219.456, 256 219.4...>, 'wall_depth': 4.640483383685801, 'storage': <MULTIPOLYGON EMPTY>, 'graph': <networkx.classes.graph.Graph object at 0x115f55e10>}\n"
     ]
    }
   ],
   "source": [
    "import pickle\n",
    "\n",
    "# Load pickle file\n",
    "with open(\"/Users/umersheikh/Downloads/ResPlan.pkl\", \"rb\") as f:\n",
    "    data = pickle.load(f)\n",
    "\n",
    "print(type(data))\n",
    "print(data[1])   # See what’s inside"
   ]
  },
  {
   "cell_type": "code",
   "execution_count": 5,
   "id": "0026ae71",
   "metadata": {},
   "outputs": [
    {
     "name": "stdout",
     "output_type": "stream",
     "text": [
      "17107\n"
     ]
    }
   ],
   "source": [
    "print(len(data))"
   ]
  }
 ],
 "metadata": {
  "kernelspec": {
   "display_name": "base",
   "language": "python",
   "name": "python3"
  },
  "language_info": {
   "codemirror_mode": {
    "name": "ipython",
    "version": 3
   },
   "file_extension": ".py",
   "mimetype": "text/x-python",
   "name": "python",
   "nbconvert_exporter": "python",
   "pygments_lexer": "ipython3",
   "version": "3.11.4"
  }
 },
 "nbformat": 4,
 "nbformat_minor": 5
}
