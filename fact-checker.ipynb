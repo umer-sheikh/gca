{
 "cells": [
  {
   "cell_type": "markdown",
   "id": "d5af0f37",
   "metadata": {},
   "source": [
    "## Fact Checker\n",
    "I will receive a chunk of text/statement. I need to verify if it is fact or perception\n"
   ]
  },
  {
   "cell_type": "code",
   "execution_count": null,
   "id": "f4173f19",
   "metadata": {},
   "outputs": [],
   "source": [
    "!pip install yt-dlp faster-whisper"
   ]
  },
  {
   "cell_type": "code",
   "execution_count": 1,
   "id": "4d0bda08",
   "metadata": {},
   "outputs": [],
   "source": [
    "import os\n",
    "import subprocess\n",
    "import tempfile\n",
    "from pathlib import Path\n",
    "\n",
    "from yt_dlp import YoutubeDL\n",
    "from faster_whisper import WhisperModel"
   ]
  },
  {
   "cell_type": "code",
   "execution_count": 2,
   "id": "a244599e",
   "metadata": {},
   "outputs": [],
   "source": [
    "def download_youtube_audio(youtube_url: str, out_dir: Path) -> Path:\n",
    "    \"\"\"\n",
    "    Uses yt-dlp to download best audio as m4a/webm/opus, returns path to the audio file.\n",
    "    \"\"\"\n",
    "    out_dir.mkdir(parents=True, exist_ok=True)\n",
    "    # %(ext)s will be chosen automatically by yt-dlp\n",
    "    out_tmpl = str(out_dir / \"%(title).200B.%(ext)s\")\n",
    "\n",
    "    ydl_opts = {\n",
    "        \"format\": \"bestaudio/best\",\n",
    "        \"outtmpl\": out_tmpl,\n",
    "        \"quiet\": True,\n",
    "        \"noplaylist\": True,\n",
    "        # If you want direct audio extraction & re-encode to mp3 via ffmpeg:\n",
    "        # \"postprocessors\": [{\"key\": \"FFmpegExtractAudio\", \"preferredcodec\": \"mp3\", \"preferredquality\": \"192\"}],\n",
    "    }\n",
    "\n",
    "    with YoutubeDL(ydl_opts) as ydl:\n",
    "        info = ydl.extract_info(youtube_url, download=True)\n",
    "        filename = ydl.prepare_filename(info)  # actual downloaded file (likely .m4a or .webm)\n",
    "        # If a postprocessor runs, extension could change; otherwise keep as-is.\n",
    "        return Path(filename)"
   ]
  },
  {
   "cell_type": "code",
   "execution_count": 3,
   "id": "bac2fdf4",
   "metadata": {},
   "outputs": [],
   "source": [
    "def to_wav_16k_mono(src_audio: Path, out_dir: Path) -> Path:\n",
    "    \"\"\"\n",
    "    Normalizes to 16kHz mono WAV via ffmpeg—ideal for most STT models.\n",
    "    \"\"\"\n",
    "    out_dir.mkdir(parents=True, exist_ok=True)\n",
    "    wav_path = out_dir / (src_audio.stem + \".16k.wav\")\n",
    "    cmd = [\n",
    "        \"ffmpeg\", \"-y\",\n",
    "        \"-i\", str(src_audio),\n",
    "        \"-ac\", \"1\",            # mono\n",
    "        \"-ar\", \"16000\",        # 16 kHz\n",
    "        \"-vn\",\n",
    "        str(wav_path),\n",
    "    ]\n",
    "    subprocess.run(cmd, check=True, stdout=subprocess.PIPE, stderr=subprocess.PIPE)\n",
    "    return wav_path"
   ]
  },
  {
   "cell_type": "code",
   "execution_count": 4,
   "id": "454e9543",
   "metadata": {},
   "outputs": [],
   "source": [
    "def transcribe_with_faster_whisper(wav_path: Path, model_size: str = \"small\") -> str:\n",
    "    \"\"\"\n",
    "    Transcribes with faster-whisper (CTranslate2). Choose model_size: tiny/base/small/medium/large-v3.\n",
    "    \"\"\"\n",
    "    model = WhisperModel(model_size, device=\"auto\", compute_type=\"auto\")\n",
    "    segments, info = model.transcribe(str(wav_path), vad_filter=True)\n",
    "    text = \"\".join(seg.text for seg in segments)\n",
    "    return text.strip()"
   ]
  },
  {
   "cell_type": "code",
   "execution_count": 5,
   "id": "de0f7b60",
   "metadata": {},
   "outputs": [],
   "source": [
    "def youtube_to_text(youtube_url: str) -> str:\n",
    "    with tempfile.TemporaryDirectory() as tmp:\n",
    "        tmpdir = Path(tmp)\n",
    "        raw = download_youtube_audio(youtube_url, tmpdir)\n",
    "        wav = to_wav_16k_mono(raw, tmpdir)\n",
    "        return transcribe_with_faster_whisper(wav)"
   ]
  },
  {
   "cell_type": "code",
   "execution_count": 6,
   "id": "c2fe0dab",
   "metadata": {},
   "outputs": [
    {
     "name": "stdout",
     "output_type": "stream",
     "text": [
      "                                                           \r"
     ]
    },
    {
     "data": {
      "application/vnd.jupyter.widget-view+json": {
       "model_id": "0916a554e7b6446cb8eaaa81d7aa4ffc",
       "version_major": 2,
       "version_minor": 0
      },
      "text/plain": [
       "model.bin:   0%|          | 0.00/484M [00:00<?, ?B/s]"
      ]
     },
     "metadata": {},
     "output_type": "display_data"
    },
    {
     "data": {
      "application/vnd.jupyter.widget-view+json": {
       "model_id": "76c6f904691a482a9cce74876d1cc923",
       "version_major": 2,
       "version_minor": 0
      },
      "text/plain": [
       "vocabulary.txt: 0.00B [00:00, ?B/s]"
      ]
     },
     "metadata": {},
     "output_type": "display_data"
    },
    {
     "data": {
      "application/vnd.jupyter.widget-view+json": {
       "model_id": "81de90838f41415eaf1104c23f75f17a",
       "version_major": 2,
       "version_minor": 0
      },
      "text/plain": [
       "config.json: 0.00B [00:00, ?B/s]"
      ]
     },
     "metadata": {},
     "output_type": "display_data"
    },
    {
     "data": {
      "application/vnd.jupyter.widget-view+json": {
       "model_id": "ae37048667564f6896b23942fb766586",
       "version_major": 2,
       "version_minor": 0
      },
      "text/plain": [
       "tokenizer.json: 0.00B [00:00, ?B/s]"
      ]
     },
     "metadata": {},
     "output_type": "display_data"
    },
    {
     "name": "stdout",
     "output_type": "stream",
     "text": [
      "The ocean conveyor belt and the Gulfstream. Ocean currents have a direct influence on our lives. They determine our weather, our climate and much more. The ocean currents and wind systems transport heat from the equator to the poles and operate like a large engine for the global climate. In the oceans there are numerous currents. The so-called ocean conveyor belt is very important for our climate. This term describes a combination of currents that result in four of the five global oceans exchanging water with each other. They form a worldwide circulation system. The conveyor belt is also called the thermohaline circulation, with thermo referring to the temperature and haline to the salt content of the water. Both determine the density of the water. While the masses of water may be moved in part by wind, primarily the different densities of the global oceans are responsible for their movement. Warm water has a lower density and rises, while cold water sinks. The water's density also increases with a higher salt content. At the equator the heat from the sun is especially strong, resulting in a lot of evaporation and thus a rise in the water's salt content. That is where the Gulf Stream begins. The Gulf Stream is very important for the European climate. Its length of 10,000 kilometres makes it one of the largest and fastest ocean currents on Earth, and it's very warm. At roughly two metres a second, it brings up to 100 million cubic metres of water per second towards Europe. A constantly blowing wind, the southeast trade wind, drives warm surface water to the northwest into the Gulf of Mexico, where it heats up to 30 degrees Celsius. The turning of the Earth and the west winds then direct the Gulf Stream towards Europe and split it up. One part flows south, another east to the Canary Current, and a third part flows north where it releases a lot of heat into the atmosphere, as the North Atlantic Current. The water becomes colder there. Its salt content and density rise on account of evaporation, and it drops down between Greenland, Norway and Iceland. There we also find the largest waterfall on Earth, the so-called Chimneys, roughly 15 kilometre wide pillars with water falling up to 4,000 metres, 17 million cubic metres of water per second, or roughly 15 times more water than is carried by all the rivers in the world. This creates a strong maelstrom which constantly pulls in new water and is the reason that the Gulf Stream moves towards Europe. Countless species use the Gulf Stream as a means of transport on their trips from the Caribbean to northern areas. But it doesn't just bring us animals. An enormous quantity of warm air also comes with it. In order to reduce the same heat which it brings to the shores of Europe, we would need one million nuclear power plants. That's why we also call the Gulf Stream a heat pump. Without it, the temperature would be significantly colder here, at least 5 to 10 degrees. Instead of lush fields, we would have long winters and sparse ice-covered landscapes in Europe. In the last few years, scientists and pundits in the media have repeatedly expressed the fear that the Gulf Stream could come to a standstill due to climate change. Because if the polar caps actually melt, the salt content in the water off Greenland would fall as would its density. The North Atlantic current would no longer be heavy enough and so it wouldn't sink as usual. In the worst case, that would bring the Gulf Stream, our heat pump, to a stop. Some climate experts also assume that climate change could compensate for this effect. We know that it can be normal for the climate to change by looking at the development of the Earth over the last few million years. There are ice ages and warm periods. In the last ice age, a gigantic flood of melting water crippled the heat-bringing North Atlantic current covering the northern hemisphere in ice. Scientists have different views on the impact that climate change will have on the global ocean conveyor belt. But one thing is clear, when the climate changes, then the complex system of ocean currents and winds which has remained fairly stable since the last ice age will change in ways that we don't yet understand.\n"
     ]
    }
   ],
   "source": [
    "url = \"https://www.youtube.com/watch?v=UuGrBhK2c7U\"\n",
    "print(youtube_to_text(url))"
   ]
  },
  {
   "cell_type": "code",
   "execution_count": 10,
   "id": "69648253",
   "metadata": {},
   "outputs": [
    {
     "name": "stdout",
     "output_type": "stream",
     "text": [
      "The ocean conveyor belt and the Gulfstream. Ocean currents have a direct influence on our lives. They determine our weather, our climate and much more. The ocean currents and wind systems transport heat from the equator to the poles and operate like a large engine for the global climate. In the oceans there are numerous currents. The so-called ocean conveyor belt is very important for our climate. This term describes a combination of currents that result in four of the five global oceans exchanging water with each other. They form a worldwide circulation system. The conveyor belt is also called the thermohaline circulation, with thermo referring to the temperature and haline to the salt content of the water. Both determine the density of the water. While the masses of water may be moved in part by wind, primarily the different densities of the global oceans are responsible for their movement. Warm water has a lower density and rises, while cold water sinks. The water's density also increases with a higher salt content. At the equator the heat from the sun is especially strong, resulting in a lot of evaporation and thus a rise in the water's salt content. That is where the Gulf Stream begins. The Gulf Stream is very important for the European climate. Its length of 10,000 kilometres makes it one of the largest and fastest ocean currents on Earth, and it's very warm. At roughly two metres a second, it brings up to 100 million cubic metres of water per second towards Europe. A constantly blowing wind, the southeast trade wind, drives warm surface water to the northwest into the Gulf of Mexico, where it heats up to 30 degrees Celsius. The turning of the Earth and the west winds then direct the Gulf Stream towards Europe and split it up. One part flows south, another east to the Canary Current, and a third part flows north where it releases a lot of heat into the atmosphere, as the North Atlantic Current. The water becomes colder there. Its salt content and density rise on account of evaporation, and it drops down between Greenland, Norway and Iceland. There we also find the largest waterfall on Earth, the so-called Chimneys, roughly 15 kilometre wide pillars with water falling up to 4,000 metres, 17 million cubic metres of water per second, or roughly 15 times more water than is carried by all the rivers in the world. This creates a strong maelstrom which constantly pulls in new water and is the reason that the Gulf Stream moves towards Europe. Countless species use the Gulf Stream as a means of transport on their trips from the Caribbean to northern areas. But it doesn't just bring us animals. An enormous quantity of warm air also comes with it. In order to reduce the same heat which it brings to the shores of Europe, we would need one million nuclear power plants. That's why we also call the Gulf Stream a heat pump. Without it, the temperature would be significantly colder here, at least 5 to 10 degrees. Instead of lush fields, we would have long winters and sparse ice-covered landscapes in Europe. In the last few years, scientists and pundits in the media have repeatedly expressed the fear that the Gulf Stream could come to a standstill due to climate change. Because if the polar caps actually melt, the salt content in the water off Greenland would fall as would its density. The North Atlantic current would no longer be heavy enough and so it wouldn't sink as usual. In the worst case, that would bring the Gulf Stream, our heat pump, to a stop. Some climate experts also assume that climate change could compensate for this effect. We know that it can be normal for the climate to change by looking at the development of the Earth over the last few million years. There are ice ages and warm periods. In the last ice age, a gigantic flood of melting water crippled the heat-bringing North Atlantic current covering the northern hemisphere in ice. Scientists have different views on the impact that climate change will have on the global ocean conveyor belt. But one thing is clear, when the climate changes, then the complex system of ocean currents and winds which has remained fairly stable since the last ice age will change in ways that we don't yet understand.\n"
     ]
    }
   ],
   "source": [
    "url = \"https://www.youtube.com/watch?v=UuGrBhK2c7U\"\n",
    "print(youtube_to_text(url))"
   ]
  },
  {
   "cell_type": "code",
   "execution_count": 7,
   "id": "3b9a8b08",
   "metadata": {},
   "outputs": [
    {
     "name": "stdout",
     "output_type": "stream",
     "text": [
      "Collecting youtube-transcript-api\n",
      "  Obtaining dependency information for youtube-transcript-api from https://files.pythonhosted.org/packages/41/92/3d1a580f0efcad926f45876cf6cb92b2c260e84ae75dae5463bbf38f92e7/youtube_transcript_api-1.2.2-py3-none-any.whl.metadata\n",
      "  Downloading youtube_transcript_api-1.2.2-py3-none-any.whl.metadata (24 kB)\n",
      "Requirement already satisfied: defusedxml<0.8.0,>=0.7.1 in /Users/umersheikh/anaconda3/lib/python3.11/site-packages (from youtube-transcript-api) (0.7.1)\n",
      "Requirement already satisfied: requests in /Users/umersheikh/anaconda3/lib/python3.11/site-packages (from youtube-transcript-api) (2.32.3)\n",
      "Requirement already satisfied: charset-normalizer<4,>=2 in /Users/umersheikh/anaconda3/lib/python3.11/site-packages (from requests->youtube-transcript-api) (2.0.4)\n",
      "Requirement already satisfied: idna<4,>=2.5 in /Users/umersheikh/anaconda3/lib/python3.11/site-packages (from requests->youtube-transcript-api) (2.10)\n",
      "Requirement already satisfied: urllib3<3,>=1.21.1 in /Users/umersheikh/anaconda3/lib/python3.11/site-packages (from requests->youtube-transcript-api) (1.26.16)\n",
      "Requirement already satisfied: certifi>=2017.4.17 in /Users/umersheikh/anaconda3/lib/python3.11/site-packages (from requests->youtube-transcript-api) (2023.7.22)\n",
      "Downloading youtube_transcript_api-1.2.2-py3-none-any.whl (485 kB)\n",
      "\u001b[2K   \u001b[90m━━━━━━━━━━━━━━━━━━━━━━━━━━━━━━━━━━━━━━━━\u001b[0m \u001b[32m485.0/485.0 kB\u001b[0m \u001b[31m3.7 MB/s\u001b[0m eta \u001b[36m0:00:00\u001b[0ma \u001b[36m0:00:01\u001b[0m\n",
      "\u001b[?25hInstalling collected packages: youtube-transcript-api\n",
      "Successfully installed youtube-transcript-api-1.2.2\n"
     ]
    }
   ],
   "source": [
    "!pip install youtube-transcript-api"
   ]
  },
  {
   "cell_type": "code",
   "execution_count": 2,
   "id": "d842d82e",
   "metadata": {},
   "outputs": [
    {
     "name": "stdout",
     "output_type": "stream",
     "text": [
      "Full transcript:\n",
      "[Music] you just heard me get introduced as a scientist but actually I kind of like to think of myself as a detective because as a geologist I'm like a detective of the earth I get to uncover all the puzzles and the stories and the past by looking at what's preserved in the Rock record and it turns out that the history of the earth is fascinating it's filled with stories of dinosaurs and asteroids and ice ages sometimes it feels a bit like another world I study sea level change by looking at fossil coral reefs That Grew near the sea surface and you may have heard a lot about sea level rise but today I'd like to share with you my perspective as a geologist on what's happening today and how that will play out in the future but before we get there I've got to confession to make first there is something even more important than the science that I want to talk to you about today because I'm also a person I'm a resident in the State of Florida I'm a mother a sister a daughter and I care about the people in my life just as I'm sure you care about the people in yours and because of that we are not as divided on this issue of sea level rise as our politics might suggest it is time to reframe this conversation and to move away from the rehashing the fundamental science of sea level rise and to move towards a discussion of what we're going to do about it because this is actually now more of a social problem than it is a scientific one and we need to reach a social acceptance of the idea that our coastlines are going to be on the move not just for the next few decades but for centuries and even thousands of years into the future just based on the ount of warming we've already seen and that is going to be our new normal so the reason I came here today and I'm standing before you on this red dot is not to save the planet and that might be surprising coming from a geologist but as a geologist I can tell you that planet earth has been here an awfully long time and it's going to survive this one I'm here today to save human lives and that's something that we can do together so what you need to know to save lives is this the seas are rising and that is not an alternative fact and when you see this number of 3 mimet a year it might not sound very impressive to you and you know what I'd have to agree to with you because 3 mm is the thickness of two pennies stacked on top of each other so they're probably people snickering at me up in the back of the audience thinking 3 mm really This Woman's crazy I mean my B chess is good right we' got this well unfortunately for all of us 3 mm a year is higher than anything the Earth has seen in at least the last few thousand years while we've been busily building away on our coastlines and it pales in comparison for what's to come but unlike those past worlds of Earth history that I spoke about earlier we don't have to imagine what 3 millimeters a year looks like because we're already seeing the effects all around us just as you can see in this newspaper ER headline because the flooding of our coastlines has already begun and I've been out there on the front lines and I've seen what's happening and saltwater is filling up the streets even on a sunny day during a normal high tide and when I go into these Coastal communities to talk to them about sea level rise I don't have to try to convince them that sea level rise is a problem because they're already dealing with the consequences of it in some cases they're grappling with reduced freshwater supplies as the saltwater intrudes into the aquifers underground above ground they may be unable to drive to work on a regular basis or um they uh may be waiting through water that's filled with sewage and contamination just to cross the street I'm completely on the wrong side all right sorry um here we go crossing the street sewage and contamination and as the sea gradually inches upwards this type of coastal flooding will occur more and more often because it's not going to be like a storm surge that goes away after a few days sea level rise is going to be here to stay and given what I have learned through my research on ey sheets in the past we are certain that sea level is going to rise in the future in fact you may not want to know this but my work shows that we may already be committed to a minimum of 6 M of sea level rise that's nearly 20 ft and this is what that will do to my home state of Florida now that's not going to happen overnight but what that means is that this sea level rise is just the very first step step in what is going to be a long journey into the future so all right we've established that the seas are rising and you can either look at graphs like this or you can look at all the visual and anecdotal evidence around us but the surprising part of the story is that sea level rise will probably not play out the way you think it will why because your imaginations have been pre-programmed by the things that you see and hear about sea level rise and there several problems with the way that this has typically been done the first of those and probably the most common is that se rise is routinely overly dramatized as you can see here with this picture of the Statue of Liberty up to her armpits in water now I once saw this photo accompanied by the headline New York to see six feet of sea level rise clearly this is more than 6 feet or this is more than 200 ft so what happens here is that people completely tune out and they think either we have no idea what we're talking about or that this is such a big problem that there's nothing that we can do about it the other problem with the way that future sea level rise is often portrayed is that it is overly romanticized and now I hate to break it to you but sea level rise is not going to be like a romantic trip to Venice and in fact sea level rise will probably look more like this or not at [Music] all and when the storm surge comes along riding on top of the accumulated sea level rise of the last century the effects will be positively devastating so the problem with having this alternative kind of overly romanticized Narrative of what's going to happen is that we get distracted from the potentially more ugly reality of the fact that sea level rise is going to potentially our ports and also our Coastal airports that are largely built on landfill and also our energy facilities that line the coastlines so in essence the delivery of food water and energy the fundamental things that we rely on as a society to survive will be threatened for all of us the third problem with the way that sea level rise is often portrayed is that we have this unrealistic belief that we can just engineer our way out of the situation right we can build walls we can raise roads we can install pumps all right now don't get me wrong there is no question that there is an important place for engineering solutions that can buy us some time but large scale projects quite simply are not going to be a realistic solution for most communities and in the short term we may be able to hold the Seas at Bay in some places but when those big storms come along that infrastructure will fail catastrophically so in the long run there are really only two choices to make either we can build walls and live in bowls or we can retreat and the problem is that to a lot of people the word Retreat sounds a lot like the word defeat so now we get to the heart of the matter because the seas are rising and now we have some difficult choices to make on the one hand we can choose to manage that Retreat to some extent or we can wait stick our heads in the sand and then respond to the crisis as the storms hit the insurance companies pull out and then prevent us from rebuilding in those vulnerable areas and unfortunately if we ignore that problem it won't go away because the certainty we have or because sorry the ice sheets don't really care what you think about sea level rise they only care about the temperatures that are making them melt and this certainty that we have about the fact that sea level is going to rise in the future often gets lost in what you hear in the news which tends to focus on the uncertainty of how quickly that's going to play out and by focusing only on the near term of what's going to happen in the next few decades we tend to lean towards Solutions of infrastructure development to preserve the existing coastlines my point is that we also need to have a long-term perspective here because at some point Retreat is going to be inevitable and redefining our relationship to the coastline is going to take time so why aren't we having more conversations about retreat well quite simply there's a decisive lack of social and political will to do so even in the communities where they've organized and they're addressing the issue of sea level rise people are still afraid to even mention the word Retreat much less have a discussion about it why is that my intuition tells me that it's based in fear fear about losing what we have fear about losing our homes the places we grew up in fear about what happens next where will I go how will I afford to go but if we continue to insist on building in these vulnerable coastlines then we are losing out on an opportunity to relocate people move to Higher Ground and develop along corridors of retreat with that opportunity would come jobs economic growth and most importantly to me saving lives so in fact Retreat is not defeat Retreat is winning because the alternative would be far costlier outcome so my message to you today is that it is time for us to face our fears about sea level rise because the fact that we can't even have a discussion about this issue is a real problem because there can't be action unless we talk about it first so if you want to know what you can do as just one person it's to go out there and to talk to people about the problems we we Face have the hard conversations about imagining what the future will bring but I'd like to remind you today that there has never been anything false about Hope and because you now have this perspective on sea level rise I have hope in you and in what we can do together so I challenge you today to get up to go out there put down your smartphones and talk to each other because we have a challenge before us and if we can have more realistic dialogue about this issue not the drama and romance you saw before we can actually save lives possibly even your own because yes the seas are rising but so can we thank you\n"
     ]
    }
   ],
   "source": [
    "from youtube_transcript_api import YouTubeTranscriptApi\n",
    "\n",
    "video_id = \"OfpMO4WLDLE\"\n",
    "transcript = YouTubeTranscriptApi().fetch(video_id)\n",
    "\n",
    "# Create a string variable with the full transcript\n",
    "transcript_text = \"\"\n",
    "for snippet in transcript:\n",
    "    transcript_text += snippet.text + \" \"\n",
    "\n",
    "# Clean up extra spaces and print the result\n",
    "transcript_text = transcript_text.strip()\n",
    "print(\"Full transcript:\")\n",
    "print(transcript_text)"
   ]
  },
  {
   "cell_type": "code",
   "execution_count": null,
   "id": "df74b57c",
   "metadata": {},
   "outputs": [],
   "source": []
  }
 ],
 "metadata": {
  "kernelspec": {
   "display_name": "base",
   "language": "python",
   "name": "python3"
  },
  "language_info": {
   "codemirror_mode": {
    "name": "ipython",
    "version": 3
   },
   "file_extension": ".py",
   "mimetype": "text/x-python",
   "name": "python",
   "nbconvert_exporter": "python",
   "pygments_lexer": "ipython3",
   "version": "3.11.4"
  }
 },
 "nbformat": 4,
 "nbformat_minor": 5
}
