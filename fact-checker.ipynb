{
 "cells": [
  {
   "cell_type": "markdown",
   "id": "d5af0f37",
   "metadata": {},
   "source": [
    "## Fact Checker\n",
    "I will receive a chunk of text/statement. I need to verify if it is fact or perception\n"
   ]
  },
  {
   "cell_type": "code",
   "execution_count": null,
   "id": "f4173f19",
   "metadata": {
    "vscode": {
     "languageId": "plaintext"
    }
   },
   "outputs": [],
   "source": []
  }
 ],
 "metadata": {
  "language_info": {
   "name": "python"
  }
 },
 "nbformat": 4,
 "nbformat_minor": 5
}
