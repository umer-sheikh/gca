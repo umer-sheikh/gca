{
 "cells": [
  {
   "cell_type": "markdown",
   "id": "d5af0f37",
   "metadata": {},
   "source": [
    "## Fact Checker\n",
    "I will receive a chunk of text/statement. I need to verify if it is fact or perception\n"
   ]
  },
  {
   "cell_type": "code",
   "execution_count": null,
   "id": "f4173f19",
   "metadata": {},
   "outputs": [],
   "source": [
    "!pip install yt-dlp faster-whisper"
   ]
  },
  {
   "cell_type": "code",
   "execution_count": 1,
   "id": "4d0bda08",
   "metadata": {},
   "outputs": [],
   "source": [
    "import os\n",
    "import subprocess\n",
    "import tempfile\n",
    "from pathlib import Path\n",
    "\n",
    "from yt_dlp import YoutubeDL\n",
    "from faster_whisper import WhisperModel"
   ]
  },
  {
   "cell_type": "code",
   "execution_count": 2,
   "id": "a244599e",
   "metadata": {},
   "outputs": [],
   "source": [
    "def download_youtube_audio(youtube_url: str, out_dir: Path) -> Path:\n",
    "    \"\"\"\n",
    "    Uses yt-dlp to download best audio as m4a/webm/opus, returns path to the audio file.\n",
    "    \"\"\"\n",
    "    out_dir.mkdir(parents=True, exist_ok=True)\n",
    "    # %(ext)s will be chosen automatically by yt-dlp\n",
    "    out_tmpl = str(out_dir / \"%(title).200B.%(ext)s\")\n",
    "\n",
    "    ydl_opts = {\n",
    "        \"format\": \"bestaudio/best\",\n",
    "        \"outtmpl\": out_tmpl,\n",
    "        \"quiet\": True,\n",
    "        \"noplaylist\": True,\n",
    "        # If you want direct audio extraction & re-encode to mp3 via ffmpeg:\n",
    "        # \"postprocessors\": [{\"key\": \"FFmpegExtractAudio\", \"preferredcodec\": \"mp3\", \"preferredquality\": \"192\"}],\n",
    "    }\n",
    "\n",
    "    with YoutubeDL(ydl_opts) as ydl:\n",
    "        info = ydl.extract_info(youtube_url, download=True)\n",
    "        filename = ydl.prepare_filename(info)  # actual downloaded file (likely .m4a or .webm)\n",
    "        # If a postprocessor runs, extension could change; otherwise keep as-is.\n",
    "        return Path(filename)"
   ]
  },
  {
   "cell_type": "code",
   "execution_count": 3,
   "id": "bac2fdf4",
   "metadata": {},
   "outputs": [],
   "source": [
    "def to_wav_16k_mono(src_audio: Path, out_dir: Path) -> Path:\n",
    "    \"\"\"\n",
    "    Normalizes to 16kHz mono WAV via ffmpeg—ideal for most STT models.\n",
    "    \"\"\"\n",
    "    out_dir.mkdir(parents=True, exist_ok=True)\n",
    "    wav_path = out_dir / (src_audio.stem + \".16k.wav\")\n",
    "    cmd = [\n",
    "        \"ffmpeg\", \"-y\",\n",
    "        \"-i\", str(src_audio),\n",
    "        \"-ac\", \"1\",            # mono\n",
    "        \"-ar\", \"16000\",        # 16 kHz\n",
    "        \"-vn\",\n",
    "        str(wav_path),\n",
    "    ]\n",
    "    subprocess.run(cmd, check=True, stdout=subprocess.PIPE, stderr=subprocess.PIPE)\n",
    "    return wav_path"
   ]
  },
  {
   "cell_type": "code",
   "execution_count": 4,
   "id": "454e9543",
   "metadata": {},
   "outputs": [],
   "source": [
    "def transcribe_with_faster_whisper(wav_path: Path, model_size: str = \"small\") -> str:\n",
    "    \"\"\"\n",
    "    Transcribes with faster-whisper (CTranslate2). Choose model_size: tiny/base/small/medium/large-v3.\n",
    "    \"\"\"\n",
    "    model = WhisperModel(model_size, device=\"auto\", compute_type=\"auto\")\n",
    "    segments, info = model.transcribe(str(wav_path), vad_filter=True)\n",
    "    text = \"\".join(seg.text for seg in segments)\n",
    "    return text.strip()"
   ]
  },
  {
   "cell_type": "code",
   "execution_count": 5,
   "id": "de0f7b60",
   "metadata": {},
   "outputs": [],
   "source": [
    "def youtube_to_text(youtube_url: str) -> str:\n",
    "    with tempfile.TemporaryDirectory() as tmp:\n",
    "        tmpdir = Path(tmp)\n",
    "        raw = download_youtube_audio(youtube_url, tmpdir)\n",
    "        wav = to_wav_16k_mono(raw, tmpdir)\n",
    "        return transcribe_with_faster_whisper(wav)"
   ]
  },
  {
   "cell_type": "code",
   "execution_count": 6,
   "id": "c2fe0dab",
   "metadata": {},
   "outputs": [
    {
     "name": "stdout",
     "output_type": "stream",
     "text": [
      "                                                           \r"
     ]
    },
    {
     "data": {
      "application/vnd.jupyter.widget-view+json": {
       "model_id": "0916a554e7b6446cb8eaaa81d7aa4ffc",
       "version_major": 2,
       "version_minor": 0
      },
      "text/plain": [
       "model.bin:   0%|          | 0.00/484M [00:00<?, ?B/s]"
      ]
     },
     "metadata": {},
     "output_type": "display_data"
    },
    {
     "data": {
      "application/vnd.jupyter.widget-view+json": {
       "model_id": "76c6f904691a482a9cce74876d1cc923",
       "version_major": 2,
       "version_minor": 0
      },
      "text/plain": [
       "vocabulary.txt: 0.00B [00:00, ?B/s]"
      ]
     },
     "metadata": {},
     "output_type": "display_data"
    },
    {
     "data": {
      "application/vnd.jupyter.widget-view+json": {
       "model_id": "81de90838f41415eaf1104c23f75f17a",
       "version_major": 2,
       "version_minor": 0
      },
      "text/plain": [
       "config.json: 0.00B [00:00, ?B/s]"
      ]
     },
     "metadata": {},
     "output_type": "display_data"
    },
    {
     "data": {
      "application/vnd.jupyter.widget-view+json": {
       "model_id": "ae37048667564f6896b23942fb766586",
       "version_major": 2,
       "version_minor": 0
      },
      "text/plain": [
       "tokenizer.json: 0.00B [00:00, ?B/s]"
      ]
     },
     "metadata": {},
     "output_type": "display_data"
    },
    {
     "name": "stdout",
     "output_type": "stream",
     "text": [
      "The ocean conveyor belt and the Gulfstream. Ocean currents have a direct influence on our lives. They determine our weather, our climate and much more. The ocean currents and wind systems transport heat from the equator to the poles and operate like a large engine for the global climate. In the oceans there are numerous currents. The so-called ocean conveyor belt is very important for our climate. This term describes a combination of currents that result in four of the five global oceans exchanging water with each other. They form a worldwide circulation system. The conveyor belt is also called the thermohaline circulation, with thermo referring to the temperature and haline to the salt content of the water. Both determine the density of the water. While the masses of water may be moved in part by wind, primarily the different densities of the global oceans are responsible for their movement. Warm water has a lower density and rises, while cold water sinks. The water's density also increases with a higher salt content. At the equator the heat from the sun is especially strong, resulting in a lot of evaporation and thus a rise in the water's salt content. That is where the Gulf Stream begins. The Gulf Stream is very important for the European climate. Its length of 10,000 kilometres makes it one of the largest and fastest ocean currents on Earth, and it's very warm. At roughly two metres a second, it brings up to 100 million cubic metres of water per second towards Europe. A constantly blowing wind, the southeast trade wind, drives warm surface water to the northwest into the Gulf of Mexico, where it heats up to 30 degrees Celsius. The turning of the Earth and the west winds then direct the Gulf Stream towards Europe and split it up. One part flows south, another east to the Canary Current, and a third part flows north where it releases a lot of heat into the atmosphere, as the North Atlantic Current. The water becomes colder there. Its salt content and density rise on account of evaporation, and it drops down between Greenland, Norway and Iceland. There we also find the largest waterfall on Earth, the so-called Chimneys, roughly 15 kilometre wide pillars with water falling up to 4,000 metres, 17 million cubic metres of water per second, or roughly 15 times more water than is carried by all the rivers in the world. This creates a strong maelstrom which constantly pulls in new water and is the reason that the Gulf Stream moves towards Europe. Countless species use the Gulf Stream as a means of transport on their trips from the Caribbean to northern areas. But it doesn't just bring us animals. An enormous quantity of warm air also comes with it. In order to reduce the same heat which it brings to the shores of Europe, we would need one million nuclear power plants. That's why we also call the Gulf Stream a heat pump. Without it, the temperature would be significantly colder here, at least 5 to 10 degrees. Instead of lush fields, we would have long winters and sparse ice-covered landscapes in Europe. In the last few years, scientists and pundits in the media have repeatedly expressed the fear that the Gulf Stream could come to a standstill due to climate change. Because if the polar caps actually melt, the salt content in the water off Greenland would fall as would its density. The North Atlantic current would no longer be heavy enough and so it wouldn't sink as usual. In the worst case, that would bring the Gulf Stream, our heat pump, to a stop. Some climate experts also assume that climate change could compensate for this effect. We know that it can be normal for the climate to change by looking at the development of the Earth over the last few million years. There are ice ages and warm periods. In the last ice age, a gigantic flood of melting water crippled the heat-bringing North Atlantic current covering the northern hemisphere in ice. Scientists have different views on the impact that climate change will have on the global ocean conveyor belt. But one thing is clear, when the climate changes, then the complex system of ocean currents and winds which has remained fairly stable since the last ice age will change in ways that we don't yet understand.\n"
     ]
    }
   ],
   "source": [
    "url = \"https://www.youtube.com/watch?v=UuGrBhK2c7U\"\n",
    "print(youtube_to_text(url))"
   ]
  },
  {
   "cell_type": "code",
   "execution_count": 10,
   "id": "69648253",
   "metadata": {},
   "outputs": [
    {
     "name": "stdout",
     "output_type": "stream",
     "text": [
      "The ocean conveyor belt and the Gulfstream. Ocean currents have a direct influence on our lives. They determine our weather, our climate and much more. The ocean currents and wind systems transport heat from the equator to the poles and operate like a large engine for the global climate. In the oceans there are numerous currents. The so-called ocean conveyor belt is very important for our climate. This term describes a combination of currents that result in four of the five global oceans exchanging water with each other. They form a worldwide circulation system. The conveyor belt is also called the thermohaline circulation, with thermo referring to the temperature and haline to the salt content of the water. Both determine the density of the water. While the masses of water may be moved in part by wind, primarily the different densities of the global oceans are responsible for their movement. Warm water has a lower density and rises, while cold water sinks. The water's density also increases with a higher salt content. At the equator the heat from the sun is especially strong, resulting in a lot of evaporation and thus a rise in the water's salt content. That is where the Gulf Stream begins. The Gulf Stream is very important for the European climate. Its length of 10,000 kilometres makes it one of the largest and fastest ocean currents on Earth, and it's very warm. At roughly two metres a second, it brings up to 100 million cubic metres of water per second towards Europe. A constantly blowing wind, the southeast trade wind, drives warm surface water to the northwest into the Gulf of Mexico, where it heats up to 30 degrees Celsius. The turning of the Earth and the west winds then direct the Gulf Stream towards Europe and split it up. One part flows south, another east to the Canary Current, and a third part flows north where it releases a lot of heat into the atmosphere, as the North Atlantic Current. The water becomes colder there. Its salt content and density rise on account of evaporation, and it drops down between Greenland, Norway and Iceland. There we also find the largest waterfall on Earth, the so-called Chimneys, roughly 15 kilometre wide pillars with water falling up to 4,000 metres, 17 million cubic metres of water per second, or roughly 15 times more water than is carried by all the rivers in the world. This creates a strong maelstrom which constantly pulls in new water and is the reason that the Gulf Stream moves towards Europe. Countless species use the Gulf Stream as a means of transport on their trips from the Caribbean to northern areas. But it doesn't just bring us animals. An enormous quantity of warm air also comes with it. In order to reduce the same heat which it brings to the shores of Europe, we would need one million nuclear power plants. That's why we also call the Gulf Stream a heat pump. Without it, the temperature would be significantly colder here, at least 5 to 10 degrees. Instead of lush fields, we would have long winters and sparse ice-covered landscapes in Europe. In the last few years, scientists and pundits in the media have repeatedly expressed the fear that the Gulf Stream could come to a standstill due to climate change. Because if the polar caps actually melt, the salt content in the water off Greenland would fall as would its density. The North Atlantic current would no longer be heavy enough and so it wouldn't sink as usual. In the worst case, that would bring the Gulf Stream, our heat pump, to a stop. Some climate experts also assume that climate change could compensate for this effect. We know that it can be normal for the climate to change by looking at the development of the Earth over the last few million years. There are ice ages and warm periods. In the last ice age, a gigantic flood of melting water crippled the heat-bringing North Atlantic current covering the northern hemisphere in ice. Scientists have different views on the impact that climate change will have on the global ocean conveyor belt. But one thing is clear, when the climate changes, then the complex system of ocean currents and winds which has remained fairly stable since the last ice age will change in ways that we don't yet understand.\n"
     ]
    }
   ],
   "source": [
    "url = \"https://www.youtube.com/watch?v=UuGrBhK2c7U\"\n",
    "print(youtube_to_text(url))"
   ]
  },
  {
   "cell_type": "code",
   "execution_count": 7,
   "id": "3b9a8b08",
   "metadata": {},
   "outputs": [
    {
     "name": "stdout",
     "output_type": "stream",
     "text": [
      "Collecting youtube-transcript-api\n",
      "  Obtaining dependency information for youtube-transcript-api from https://files.pythonhosted.org/packages/41/92/3d1a580f0efcad926f45876cf6cb92b2c260e84ae75dae5463bbf38f92e7/youtube_transcript_api-1.2.2-py3-none-any.whl.metadata\n",
      "  Downloading youtube_transcript_api-1.2.2-py3-none-any.whl.metadata (24 kB)\n",
      "Requirement already satisfied: defusedxml<0.8.0,>=0.7.1 in /Users/umersheikh/anaconda3/lib/python3.11/site-packages (from youtube-transcript-api) (0.7.1)\n",
      "Requirement already satisfied: requests in /Users/umersheikh/anaconda3/lib/python3.11/site-packages (from youtube-transcript-api) (2.32.3)\n",
      "Requirement already satisfied: charset-normalizer<4,>=2 in /Users/umersheikh/anaconda3/lib/python3.11/site-packages (from requests->youtube-transcript-api) (2.0.4)\n",
      "Requirement already satisfied: idna<4,>=2.5 in /Users/umersheikh/anaconda3/lib/python3.11/site-packages (from requests->youtube-transcript-api) (2.10)\n",
      "Requirement already satisfied: urllib3<3,>=1.21.1 in /Users/umersheikh/anaconda3/lib/python3.11/site-packages (from requests->youtube-transcript-api) (1.26.16)\n",
      "Requirement already satisfied: certifi>=2017.4.17 in /Users/umersheikh/anaconda3/lib/python3.11/site-packages (from requests->youtube-transcript-api) (2023.7.22)\n",
      "Downloading youtube_transcript_api-1.2.2-py3-none-any.whl (485 kB)\n",
      "\u001b[2K   \u001b[90m━━━━━━━━━━━━━━━━━━━━━━━━━━━━━━━━━━━━━━━━\u001b[0m \u001b[32m485.0/485.0 kB\u001b[0m \u001b[31m3.7 MB/s\u001b[0m eta \u001b[36m0:00:00\u001b[0ma \u001b[36m0:00:01\u001b[0m\n",
      "\u001b[?25hInstalling collected packages: youtube-transcript-api\n",
      "Successfully installed youtube-transcript-api-1.2.2\n"
     ]
    }
   ],
   "source": [
    "!pip install youtube-transcript-api"
   ]
  },
  {
   "cell_type": "code",
   "execution_count": 19,
   "id": "d842d82e",
   "metadata": {},
   "outputs": [
    {
     "name": "stdout",
     "output_type": "stream",
     "text": [
      "Full transcript:\n",
      "- Most of the deadliest heat waves to date have been dry heat waves. But as our climate warms\n",
      "a possibly even deadlier heat is on the rise. - It doesn't matter how breezy it is, it doesn't matter how\n",
      "much shade you're under. It doesn't matter how much\n",
      "water you're drinking. - These are extreme humid\n",
      "heat waves, often referred to as wet-bulb events. And these are, in my opinion, one of the scariest byproducts\n",
      "of climate change. They've been relatively rare historically, but a new study shows that\n",
      "by two degrees Celsius of global warming, many of the most populated\n",
      "places on Earth are likely to experience them. And the only way to protect ourselves from\n",
      "these dangerous wet-bulb temperatures is to cool our environment. But what happens if that's not possible? - The time of year that always has the highest\n",
      "stress on the grid is always just the hottest day of the year because so many people are using AC and so then the AC is liable to go out. - What happens if there's\n",
      "another extreme weather event? If you have a tropical cyclone that comes in, wipes out power? - Stick around as we break down why these\n",
      "temperatures are so deadly and how we can prepare for\n",
      "a world that's so warm, our bodies literally can't handle it. Let's start by talking\n",
      "about dry versus humid heat. Dry heat waves are usually driven by large high pressure systems that trap hot air near the surface. These systems push air downward, and as the air compresses, it heats up in a process\n",
      "called adiabatic heating. If the high stays stuck in\n",
      "place, the heat builds day after day with no clouds\n",
      "or wind to carry it away. And that's exactly what happened during the 2003 European heat wave and the 2021 Pacific Northwest heat dome. Now let's take a look at humid heat. - As temperatures rise, we can hold a lot more\n",
      "moisture in the atmosphere. And so this means that if\n",
      "a given location has air temperatures going up with\n",
      "ongoing climate change, it's likely that if they\n",
      "have a moisture source, humidity's also going to increase. - We just saw how dangerous this can be in 2015 when one of the most extreme humid\n",
      "heat events on record struck Karachi, Pakistan. Temperatures up to 45 degrees Celsius combined\n",
      "with oppressive humidity, power outages and water shortages made conditions even worse. At least 1200 people died in just 10 days most from heat stroke and dehydration. Humans primarily cool down by sweating, but when the air is humid,\n",
      "sweat can't evaporate as easily, so we don't cool off as well. This is where wet-bulb comes into play. wet-bulb temperature combines heat and humidity into a single number, which helps us understand\n",
      "when conditions become dangerous or even lethal. - You can imagine taking a\n",
      "normal thermometer. If you take that thermometer and you cover\n",
      "the bulb in a little sock that is then placed into\n",
      "a container of water, so it's constantly wetted. Evaporation's going to take\n",
      "place off of that little sock and it's gonna have a net cooling effect. - The wet sock at the end of the wet-bulb thermometer\n",
      "functions similarly to human skin. Water evaporates off the wet\n",
      "sock while sweat evaporates off our wet skin. In both cases, evaporation carries away heat into the surrounding environment. - But the more humid the ambient\n",
      "air is, the more difficult and less efficient that\n",
      "evaporation is to take place. And so that makes any cooling\n",
      "through evaporative cooling, less efficient at high\n",
      "temperatures and high humidity. - Which is why humid heat feels so muggy and uncomfortable for us and\n",
      "why it can be so dangerous. There have been a number of\n",
      "attempts to better understand how humid heat affects the\n",
      "human body, in particular where our physical limits are, but it's not easy to identify\n",
      "dangerous wet-bulb thresholds because well, they're dangerous. - So obviously you can't put\n",
      "someone in a heat chamber and truly cook them. That would be unethical. But what you can do is increase\n",
      "temperature and humidity and measure someone's core temperature and see what's the point\n",
      "at which their core temperature starts to increase. And that's the limit\n",
      "of compensability. - The human body generally does a good job of regulating its core body\n",
      "temperature through sweat. But once we cross the limit of livability or compensability, as scientists call it, our core body temperature starts\n",
      "to increase uncontrollably. And this wet-bulb temperature\n",
      "range is actually a lot lower than we previously believed. - So this paper is really trying to summarize the most state-of-the-art estimations of these thresholds. And so what we see is\n",
      "that there is a range. So uncompensable wet-bulb temperatures range from about 19 to 32 degrees Celsius. - And you might think the\n",
      "lower end of this range, 19 degrees Celsius sounds really low. But it's important to understand that a 19 degree wet-bulb\n",
      "does not equal 19 degrees on a regular thermometer. So 19 degrees Celsius wet-bulb\n",
      "is actually more like 46 degrees Celsius with low humidity or 32 degrees Celsius\n",
      "with higher humidity. And the reason there's a range is because this threshold depends on a number of variables including activity level, exact air temperature, and\n",
      "humidity levels and age. - Older adults thermo\n",
      "regulatory responses are worse, they sweat less efficiently,\n",
      "they also have higher risks of comorbidities, so\n",
      "things like cardiovascular and respiratory diseases. - So according to their study,\n",
      "where on earth are we likely to cross these thresholds? Well, at two degrees\n",
      "Celsius of global warming, which could come in as\n",
      "little as two decades for older adults. It's about a third of Earth's land area, but that only tells part of the story. - It's 35% of the land area, but it's also many of our\n",
      "most populous places on earth. Most of India, most of the\n",
      "populated area of China. This is most of the\n",
      "eastern portion of the U.S. - And if we let global\n",
      "warming get really out of hand or if climate sensitivity\n",
      "is just on the higher end of our projections at four degrees Celsius above pre-industrial levels, over 60% of Earth's landmass\n",
      "could see these dangerous wet-bulb temperatures. Heat is the deadliest weather\n",
      "disaster in the U.S. in many parts of the world, and it's projected to get a lot deadlier. During the 2003 European heatwave, up to 3,400 people died in Paris\n",
      "alone. At two degrees Celsius, which is again only a couple decades away, scientists found that Paris\n",
      "will see deadly heat waves like this once every few years\n",
      "rather than once a century. And though this heat wave in 2003 was among the deadliest in recent\n",
      "history, it didn't get close to the dangerous wet-bulb\n",
      "thresholds we've been discussing in this episode. But the 2015 heat wave in\n",
      "Karachi did it passed the uncompensable wet-bulb\n",
      "threshold for older adults for something like eight\n",
      "to 10% of the time. But at two degrees Celsius\n",
      "of warming, we can see that the uncompensable\n",
      "threshold is crossed for younger adults as well. And at four degrees, models show that the same event would\n",
      "cross the uncompensable threshold for older adults for about 90% of the heat waves duration. And the thing to remember\n",
      "about these critical wet-bulb threshold is that once you\n",
      "cross one, the only way to bring your internal temperature down is by cooling yourself or your environment. - It doesn't matter how breezy it is, it doesn't matter how\n",
      "much shade you're under, it doesn't matter how much\n",
      "water you're drinking. The only way you can protect\n",
      "yourself from these conditions is by cooling your environment. And so that is why air\n",
      "conditioning is really the major adaptation measure and\n",
      "protection measure that we have. - And although AC is one\n",
      "of the most important tools for surviving extreme heat,\n",
      "it's far from perfect. First of all, it's expensive. AC is energy intensive, and as our climate gets warmer,\n",
      "many people won't be able to afford to stay cool. And due to its financial inaccessibility, many people in places most vulnerable to deadly heat don't have access to AC. Second, air conditioning\n",
      "doesn't eliminate heat, it just moves it. Cooling the indoors means\n",
      "transferring the heat outside, which warms the surrounding air. And in cities, this added heat can worsen\n",
      "the urban heat island effect. Now, let's imagine that everyone could\n",
      "afford air conditioning. It still wouldn't automatically\n",
      "solve the problem. Our power grids in the U.S. and globally weren't designed for everyone to crank up their units at once. During heat waves, widespread outages become\n",
      "more likely leaving the most vulnerable at even greater risk. - If AC units were our only way\n",
      "of protecting people as soon as the power system fails, whether that's from the grid being overloaded, or if we have another weather driven sort of infrastructure damage that's going to put people\n",
      "immediately at risk. - And these compounding\n",
      "hazards like a heat wave after a hurricane are a growing concern as we head towards unprecedented levels of warming for humans. And as weather across the\n",
      "board just gets more extreme, but there's one more catch. The more we rely on ac, the more we could be fueling the base problem of global warming. - If you tried to just build\n",
      "out air conditioning to deal with heat risk, how much\n",
      "would that contribute to carbon emissions across the world? And how much would that positively feed back on global temperature making the temperature even higher? - Right now, air conditioning\n",
      "accounts for about 3% of global greenhouse gas emissions. And according to the International\n",
      "Energy Agency, the number of AC units worldwide is\n",
      "expected to nearly triple by 2050 leading to a massive\n",
      "rise in energy demand. So what do we do about this paradox? Well, I think it's a powerful\n",
      "argument for transitioning as quickly as possible to clean energy. The only way to meet the growing need for AC without accelerating\n",
      "climate change is to power our grids with renewables. And of course, there's a lot we can and should do beyond\n",
      "just air conditioning. We can rethink the design of\n",
      "our cities by installing white or green roofs and planting trees. We can also build more cooling centers, upgrade our electrical\n",
      "grids to be more resilient and prioritize protecting\n",
      "the most vulnerable during heat waves. The truth is that we are headed\n",
      "into uncharted territory, but it's also true that we\n",
      "still have time to choose how bad it gets. So do you live in an area that's already experiencing\n",
      "dangerously hot and humid conditions? What strategies have worked\n",
      "for you to handle the heat? Let us know in the comments and we'll see you next time on Weathered. Oh, and before you go, we also wanted to let you know about\n",
      "something special PBS and the BBC have teamed\n",
      "up to Bring You Walking with Dinosaurs Unearthed. An amazing\n",
      "show about the prehistoric beast that ruled the Earth before us and experienced some pretty\n",
      "extreme weather of their own. The premiere episode just\n",
      "published earlier this week on PBS Terra, and we think it's\n",
      "something our viewers will really enjoy. Click the link on screen\n",
      "or below to check it out and tell 'em Weathered sent you.\n"
     ]
    }
   ],
   "source": [
    "from youtube_transcript_api import YouTubeTranscriptApi\n",
    "\n",
    "video_id = \"7hBMbQ9de1g\"\n",
    "transcript = YouTubeTranscriptApi().fetch(video_id)\n",
    "\n",
    "# Create a string variable with the full transcript\n",
    "transcript_text = \"\"\n",
    "for snippet in transcript:\n",
    "    transcript_text += snippet.text + \" \"\n",
    "\n",
    "# Clean up extra spaces and print the result\n",
    "transcript_text = transcript_text.strip()\n",
    "print(\"Full transcript:\")\n",
    "print(transcript_text)"
   ]
  }
 ],
 "metadata": {
  "kernelspec": {
   "display_name": "base",
   "language": "python",
   "name": "python3"
  },
  "language_info": {
   "codemirror_mode": {
    "name": "ipython",
    "version": 3
   },
   "file_extension": ".py",
   "mimetype": "text/x-python",
   "name": "python",
   "nbconvert_exporter": "python",
   "pygments_lexer": "ipython3",
   "version": "3.11.4"
  }
 },
 "nbformat": 4,
 "nbformat_minor": 5
}
